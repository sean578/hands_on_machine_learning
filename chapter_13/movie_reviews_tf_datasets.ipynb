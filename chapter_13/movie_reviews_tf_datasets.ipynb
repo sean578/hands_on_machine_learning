{
 "cells": [
  {
   "cell_type": "markdown",
   "metadata": {},
   "source": [
    "## Use the words contained in a movie review to predict whether the review is positive or negative"
   ]
  },
  {
   "cell_type": "markdown",
   "metadata": {},
   "source": [
    "### Create list of files of positive and negative reviews\n",
    "### TODO: Try with keras flow_from_directory"
   ]
  },
  {
   "cell_type": "code",
   "execution_count": 1,
   "metadata": {},
   "outputs": [
    {
     "name": "stdout",
     "output_type": "stream",
     "text": [
      "tf.Tensor(b'./aclImdb/train/pos/8782_9.txt', shape=(), dtype=string)\n"
     ]
    }
   ],
   "source": [
    "import tensorflow as tf\n",
    "\n",
    "filepath_dataset_pos = tf.data.Dataset.list_files('./aclImdb/train/pos/*.txt', seed=42)\n",
    "filepath_dataset_neg = tf.data.Dataset.list_files('./aclImdb/train/neg/*.txt', seed=42)\n",
    "\n",
    "for filepath in filepath_dataset_pos.take(1):\n",
    "    a_filepath = filepath\n",
    "    print(a_filepath)"
   ]
  },
  {
   "cell_type": "code",
   "execution_count": 2,
   "metadata": {},
   "outputs": [
    {
     "name": "stdout",
     "output_type": "stream",
     "text": [
      "b\"Overall this is a delightful, light-hearted, romantic, musical comedy. I suppose a small case could be made for the movie being to long. But I'm not sure what you would cut out. The singing that Kelly and Sinatra do? No. The fabulous dancing that Kelly does? No. The time the movie takes to develop the story line and develop the relationships of the characters? No (that seems to be a common complaint many times that more recent movies don't develop the characters).<br /><br />Some comment that Iturbi didn't bring much to the movie but this gives us a chance to see and hear a great talent from the 1040s. So what if he wasn't an actor? He was an important part of the movie as the basic plot was to get Grayson an audition with him. <br /><br />Originally Katherine Grayson wanted to be an opera star. Louis B. Mayer brought her to MGM for a screen test that included an aria. During her audition in the movie there is a shot of the MGM brass nodding and smiling. You can just imagine it was like that when she had made her real screen test years before.<br /><br />This movie is so full of life it is hard to hit all of the highlights. Great use was made of color and lighting throughout the movie. You can see why Frank Sinatra became the star he did. A nice counter-point in the movie is how Sinatra (a ladies man even then) played the role of wanting to just find a date while on leave. You'll feel good after seeing this movie. 7/10\"\n",
      "\n",
      "\n"
     ]
    }
   ],
   "source": [
    "# Get the text from the file into a dataset\n",
    "dataset_pos = tf.data.TextLineDataset(filepath_dataset_pos)\n",
    "dataset_neg = tf.data.TextLineDataset(filepath_dataset_neg)\n",
    "\n",
    "for a in dataset_pos.take(1):\n",
    "    print(a.numpy())\n",
    "    print('\\n')"
   ]
  },
  {
   "cell_type": "code",
   "execution_count": 3,
   "metadata": {},
   "outputs": [
    {
     "name": "stdout",
     "output_type": "stream",
     "text": [
      "[b'i' b'have' b'seen' b'this' b'movie' b'when' b'i' b'was' b'about'\n",
      " b'years']\n"
     ]
    }
   ],
   "source": [
    "# TODO: Learn Regex!\n",
    "\n",
    "def preprocess(line):\n",
    "    \"\"\" Take a single review and process it to output a list of words \n",
    "    \"\"\"\n",
    "    \n",
    "    line = tf.strings.lower(line)\n",
    "    line = tf.strings.regex_replace(line, pattern='<br', rewrite=' ')\n",
    "    line = tf.strings.regex_replace(line, pattern='/>', rewrite=' ')\n",
    "    line = tf.strings.regex_replace(line, pattern='\\!', rewrite=' ')\n",
    "    line = tf.strings.regex_replace(line, pattern='\\.', rewrite=' ')\n",
    "    line = tf.strings.regex_replace(line, pattern='\\,', rewrite=' ')\n",
    "    line = tf.strings.regex_replace(line, pattern='\\?', rewrite=' ')\n",
    "    line = tf.strings.regex_replace(line, pattern='\\-', rewrite=' ')\n",
    "    line = tf.strings.regex_replace(line, pattern='\\'', rewrite=' ')\n",
    "    line = tf.strings.regex_replace(line, pattern='\\\"', rewrite=' ')\n",
    "    line = tf.strings.regex_replace(line, pattern='\\(', rewrite=' ')\n",
    "    line = tf.strings.regex_replace(line, pattern='\\)', rewrite=' ')\n",
    "    line = tf.strings.regex_replace(line, pattern='[\\d]', rewrite=' ')\n",
    "    line = tf.strings.split(line, '')\n",
    "    return line\n",
    "\n",
    "# Do the above word mapping for every dataset\n",
    "dataset_words_pos = dataset_pos.map(preprocess)\n",
    "dataset_words_neg = dataset_neg.map(preprocess)\n",
    "for data in dataset_words_pos.take(1):\n",
    "    print(data.numpy()[0:10])\n",
    "    "
   ]
  },
  {
   "cell_type": "markdown",
   "metadata": {},
   "source": [
    "### Define an encoding for the words in the reviews"
   ]
  },
  {
   "cell_type": "code",
   "execution_count": 4,
   "metadata": {},
   "outputs": [
    {
     "name": "stdout",
     "output_type": "stream",
     "text": [
      "[  0  14  22  48  83  57  80  19   0  40  65  18  55  23   0  41  41  76\n",
      " 100  53  66  37  44  53  42   4  59  18 100  27  23  49  18  22  48 100\n",
      "  53  41  87  28 100  28  44  70  41   0  53  88  66  41  28  80  76   0\n",
      "  53  44  58  41  23  31  74  71  15  42  59  38   0  37  31  53  49  49\n",
      "  82   0  37  31  84  37  45  55  90  64  41  57  93  69   4  18  18  94\n",
      "  51  63  55  30 100  30  56  22  25]\n",
      "\n",
      "\n",
      "[  0  24  87  21  57  45   9   8  98  91  79   4  51  76   0  53  94  40\n",
      "  52  10  41   4  10  23   4  15 102  42  36 102  92   7   4  52  63  57\n",
      "  79  21   4  19   8  66 100  52  88  66  91  10  44  43  22  78  24  88\n",
      "  57  68  57  94  21  64  22  40  39  18   4  46  75  37  40  91  99  65\n",
      "  57  10  24  31  69  44  99  92  24  69  41   4  12  80  45 100  41   4\n",
      "  66  44  24 100  45  85  24  53  21  23  41  42  26  83  71  87  24 102\n",
      "  41  87  24  70  41  74  83  71  37 102  41  71  25 100   4  94  71  22\n",
      "  18  55]\n",
      "\n",
      "\n",
      "[ 70   6 100   3  57  59  75  26  26  25  68  88  58   4  98  21  94  26\n",
      "  61   4   5  59   3 100  18  24  84  40 100  66  93 100  11  31  50  57\n",
      "  21  16 102  23 100  39 100  20   6  15  57  30  17  74  79  40  15  65\n",
      "  57   8  91   0  75   4  39   1  15  98  59  39  91  42  15  93 102  57\n",
      "  98  57  11 100  69  72  12  94  53  57  37  10  91  20 100  29  31  57\n",
      "  42  73  91  12 100  84  92  42  59  47  34  94  57  49  97  86  64  84\n",
      " 100  49  57  48  69  94  32  44  34  57  66 100  57  16  72  18  42  15\n",
      "  57  64  65  57  21   4  53  36  69 100  30 100   0  44  94  81  26   3\n",
      "  35  82  54  12 100  88  58  83 100  81 100  32  53  57 102  44  26  42\n",
      "  48  55  67  64  57  21   5  43   0  37  99  42  90  64  59  57  88  31\n",
      "  15  88  58   0  47  18  34 100  76  35  57  44 100  92  64  16 100  79\n",
      "  91  59  75 100   9  58  83]\n",
      "\n",
      "\n"
     ]
    }
   ],
   "source": [
    "vocab = ['i', 'went', 'shopping']\n",
    "indices = tf.range(len(vocab), dtype=tf.int64)\n",
    "table_init = tf.lookup.KeyValueTensorInitializer(vocab, indices) # TextFileInitializer?\n",
    "num_oov_buckets = 100\n",
    "table = tf.lookup.StaticVocabularyTable(table_init, num_oov_buckets)\n",
    "\n",
    "def encode_words(words):\n",
    "    return table.lookup(words)\n",
    "\n",
    "dataset_encoded_pos = dataset_words_pos.map(encode_words)\n",
    "dataset_encoded_neg = dataset_words_neg.map(encode_words)\n",
    "\n",
    "for encoding in dataset_encoded_pos.take(3):\n",
    "    print(encoding.numpy())\n",
    "    print('\\n')"
   ]
  },
  {
   "cell_type": "code",
   "execution_count": 5,
   "metadata": {},
   "outputs": [
    {
     "name": "stdout",
     "output_type": "stream",
     "text": [
      "data\n",
      " [ 57  41  71  84  37   4  15  65  22  48  22  23  57  48  91  11  55  60\n",
      "   6  78  44  31 102   3  42  24   7  69  91  57  41  23  42  10  11  22\n",
      "  23  69  11   4  22  67  64  44  41   4   3  42  64  24 100  96  22  23\n",
      "  12  52   4  11 100  58  71  53  81  41  18  31  71  53  65  64  41  84\n",
      "  42  72  43  53  41 100  84  92  64  57  22  19   6  53  11  10   4  44\n",
      "   4  76   6  53  11  99   5 100  15  93  70  10  42  86  68   6  53  11\n",
      "  91  92  17  22  23  57  11  91  23  76 100  73  25  18  67  23  11   4\n",
      "  94   5   0  84  79  23  42  63  64  20  25  91  19  42  63  64  60  69\n",
      "  41   4  18  42   8  49  18  30  36  18  59  98  50  74  83  81  11   8\n",
      "  11  91  76  57  41  86  41  22  23  57  42  64  60  24  81  19 100  57\n",
      " 102  45  43  91  24  81  65  40  45  10  85  10   4   4  84 100  10   4\n",
      "   6  50  16  83  57  99  97  15  66  45  57  20  74  66  95  80 102  60\n",
      "  84  94  74  44  57  83 100  15  57  92  76  23  79  66  44  84  91  79\n",
      " 100  86   7   6  57 101  45  89  57  48  41  84  92  83  79  23  59  44\n",
      " 100   9  64  25  57  97  79  34  80  33  84  91  57  97  43  42  68  24\n",
      "  44  41 100   6  91  31  99  64  55  71 100  27  57  44  97  26  64  34\n",
      "  22  99  12  84   4  65  65  34  58  77  57  73  64  57  19  79  61  57\n",
      "  34  43  41  51  84  26  52  73 100  72   9  47  10  33  50  91  79  81\n",
      "  86  91  15  22  50  72  10  43  41  36  84  10  44  84  57  97   4  32\n",
      "  34 100  79  68  42  69  88  85  88  84   5  35  26  57  83  97  31 100\n",
      "  41  41  15  54  79  61  84  42  56 100  70  79  85  54  91  79  23  36\n",
      "  86  53  69  52  10  99  57  97   6  69  63  48  53  57   7 101  74 102\n",
      "  43  42  84   4  51  43  55   4 100  23  15  86  70  50  46  91  10  43\n",
      "  41  18  85   3  64  30  79  99   5 100  15  93   6  10  42  86  68  49\n",
      "  25  91  44  10  10  70  47 100  93  96  57  74  40  42  82  95  61  57\n",
      "  25  42  50  96  25  57  47  10  45  40  74  58  57  97  64  57  96  49\n",
      "  76  90  50  57  84  43  92  97  25  32  15  57  97  64  50   4  63  19\n",
      "  93  24  25  57  16  93  61  91  41  23  98  52  57  10  69  52  52  51\n",
      " 100  10  44  56  58  57  97  21  44  86  91   4  25  16  44   4  76 100\n",
      "  10   4  88  20  23   5  57  41  23   8  64  81  42  91  71  13  53  44\n",
      "  70  43  44  24  22  23  52   4  11 100 100  99  94  25  10  26   4  68\n",
      "  23  45 100  76  74   8   0  26  60  23  83  60  23  31  20  47  55  64\n",
      " 101  10   4  51  99  97  23   4  91   4  42  15  64   3 100  71   9  24\n",
      "  91  17  25  47  90  47  60  47  35  23  56  26  58   4  55  23  19  10\n",
      "  61  42  45  19  25  57  51  41   4  73   8  64  57  44  81  76  25   3\n",
      "  62  57  88  22  11  23  82  23  34  23  96  41   4  42  11  64  18  41\n",
      "   4  41  15  57  12  41   4  41  81  25  29  42 100  41   4  42  11  91\n",
      "  24 102  97  40  71  19  71  24  41  90  94  62]\n",
      "label\n",
      " [1.]\n"
     ]
    }
   ],
   "source": [
    "# add the labels into the dataset\n",
    "labels_pos = tf.data.Dataset.from_tensor_slices(tf.ones((12500, 1)))\n",
    "labels_neg = tf.data.Dataset.from_tensor_slices(tf.zeros((12500, 1)))\n",
    "\n",
    "#print(len(list(dataset_encoded)))\n",
    "\n",
    "dataset_with_labels_pos = tf.data.Dataset.zip((dataset_encoded_pos, labels_pos))\n",
    "dataset_with_labels_neg = tf.data.Dataset.zip((dataset_encoded_neg, labels_neg))\n",
    "\n",
    "for x in dataset_with_labels_pos.take(1):\n",
    "    print('data\\n', x[0].numpy())\n",
    "    print('label\\n', x[1].numpy())"
   ]
  },
  {
   "cell_type": "code",
   "execution_count": 6,
   "metadata": {},
   "outputs": [
    {
     "name": "stdout",
     "output_type": "stream",
     "text": [
      "data\n",
      " [ 35   4 100  63  74  42  11  37  37  42  24  87 100  83  10  22  23  42\n",
      "  31  95  11  74  58  44 100  56  15  55  55  52  86  16  41   4  42   4\n",
      "  44  26  95  83   0  55 100  28  39   4 100  20  44  55  22  11   9  41\n",
      "  55  29  87  18   7 100  71  55  42  91  74  42  19   6  50  22  55  22\n",
      "  57  39  91   0  55 100  72  42  95  34  95   0  44  42  11   0  60  28\n",
      "  61  41   4  42  85  38  93  58  86  57  23  64  23  68  84  74  24  91\n",
      "  68  85  83  53  57  21  75  75  13   6  26  23  57  98  57  29  10  57\n",
      "  44 100  62  11  53  57  43  42  12  80  23  55  91  83  18  33  64  57\n",
      "  98   4  33   6 102  97  57  99  24  64   4  53  31  72  57  32  79  74\n",
      "  26  57  70  52  89  18  41  42  15  30  60  91  10  18  42  14  64  30\n",
      "  69  23  42   4  41  70  53  74   4  41   4  99  21  62  42  37  97  99\n",
      "  25  42   6  90  82  18  62  48  17  55  71  83  43  46  59  40  64  38\n",
      "  94  73  34  23  77  57  11  98  15  47  24   8  29  57  11  19  44 100\n",
      "  68  36  25   8  41   4  55  13  40  64  81  66  91  42  41  44  57  72\n",
      " 100  80  94  57  45  60  24  80 102  44  13  40  79  69  95  43   5  85\n",
      " 100  76  74  47  41   4  57  38 100  72  26  26  25  47  24   8  70  40\n",
      "  15   9  64  20  53  62  57  98  18  64  33  64  57  21  91   4  96  90\n",
      "  42  93  44  15  25  57   4  75  13  40  42  63  73  23  74  52 102  24\n",
      "  57  98]\n",
      "label\n",
      " [0.]\n",
      "data\n",
      " [ 31  50  63  42  83  21  70  64  42 100   8  91 101  35  57  55  57  53\n",
      "  69  85  12  96  13  57  41  96  82  34  55  21  57  15  88  37  52  40\n",
      "  42  33  24  64  60  25  57  24  63  95  25  50  57  81  32 100  71  66\n",
      "  23  42  16  91  49  57 100  54  23  15  59  55  92 101  40  45  83   1\n",
      "  15 100  42  58  12  51  89  74  64  14  44  12  44  70  22  15  59  73\n",
      "  55  57  72  15  56  45  70  84  96  44  70  15  58  24  93  54  25  82\n",
      "  84 100  97   5  44  69  48   8  24  22  23  57  86  61  51  64  94   0\n",
      "  44  81  53  52 102  53  87  48 100   8   5  44  35  52  51  59  58  57\n",
      "  44  21  24  60  99  64  22  27  52  44  15  91  16  24  43   4  15  57\n",
      "  45  57  48  14   6  42  73  97]\n",
      "label\n",
      " [0.]\n",
      "data\n",
      " [ 40  72  66  44  64  73  40   6   4  80  53  13  78  53  57  71  97  41\n",
      "  80  73  80  95 101  44 100  57  53  99  22  84  59  64   8  64   6   4\n",
      "  59  80  30  24  99  91  99  41  23  32  73 100  95  74  41  23  26  29\n",
      " 100  96  64  57  63  64   7  71  41  23  73  92  40  10  38  40  57  28\n",
      "  64  70  67  57  44  64 101  53  29  94  65  64  57  23  32  74  57   7\n",
      "  64   6   8  57  50 100  97  32  92 100  43  32  25  18  40  57   8 102\n",
      " 102  40  57  25  95   5  64  66  39 102  57   7  14  42   6  14  57   4\n",
      "  84  57  39   4  43 100 100  72  96  57  39  57  57  19  82  55   9  64\n",
      "  62  68  57  41  12  30  32 100 102  40  13  21  44  30  24  57  29  75\n",
      "  69  85  42  57  74  57  12  93   7   5 100  92  74  57  62  97  64  45\n",
      "  69  83  57  93   4  14  64  30 100  45  69  29  10  56 100  57  75  28\n",
      "  99  74  42  15  93  74  71  85  63  88  44  24  42   6  11  91  30  24\n",
      "  51   9  53  57  93  69  76  23  68   6  23  99  65  57  15  57 100  23\n",
      "  25  59  25  30  14 100  57  87  69  71  93  22  55  37  41  23]\n",
      "label\n",
      " [1.]\n",
      "data\n",
      " [ 12  86  57  38  37  37  42  96  43  48  23  37  74  29  11  53  23  32\n",
      "  57  53  52  69  12  98  95 102  88  13  55  25  57  55  22  85  91   4\n",
      "  67 101  74  95  23  55  81  99  86  34  18  86  34  18 100  86  34  50\n",
      "  18   0  18  44  69  82   5  55  34  84   4  62  55  74  25  60   0  90\n",
      "  57  82  64  57  11  90  81  57  66  10   7  91  45  57  44  20  58  25\n",
      "  44  70  41  28  70  83  83  99  82  41  12  18  81  58  68  37  90  42\n",
      "  37 100  23  22  42  75]\n",
      "label\n",
      " [0.]\n",
      "data\n",
      " [ 22  48  23  31  74  71  74  44  88  58  43  15   0  19  19  44  15  57\n",
      "  96  44  13 100  57  81  46  48  26  74  32  21  64  16  96  91  70  41\n",
      "   4  39  91  57  96  23  54 100  18  92  29 100  94  68   0  57  67  91\n",
      "   0  57  81  99  57  78  61  91  57  88  58  43  53  85  76   0  14  22\n",
      "  48 101  42  56  34  42  70  37  91  23  71  40 100  81  69  57  95  65\n",
      "  98  25  22  48  71   9  51  24  57  62  34  57  58  37  55  42  33  56\n",
      "  28  26  64  57  55  64  78 100  57  55   6  23  15  57  55 102   4  86\n",
      "   9  29  44  97  73  37  55  25  88  96  13  65  98  20  88 100 100  24\n",
      "  97  25  25  82   6  24  45 100  33  56  75  55  92  59  29  53  48  53\n",
      " 100  83  71   9  68  40  48  23 100  36 101  57  33  73  72  40  57  62\n",
      "  51  33  34  57  52  22  76  71  53  44  51  40  57  29  65  98  79  69\n",
      "  57  66   6 102  44  34  57  77  64  48  78  76  79  69  57  12  98  51\n",
      "  80  91  99  57  44  53  42  63  64  51  70  76  79  69  57  39  54  53\n",
      " 100  48  80   6  69  22  58 100  10  84   8  80  82  91  45   9  21  57\n",
      "  39  55  82  91  97   8  98   9 101  58  83  71  90  99  64  57  68  23\n",
      "  62 100   3  42  47  71  53  44  51  40  57  50  64  92  64  55  38  55\n",
      "  91  70  52  22  86  64  69  39  29  49  69   3  30  68  29  75  40 102\n",
      "   5  88  58  43  48  53  44  50  31  39  91  69  39   7  85  18  12  64\n",
      "  71   0  52   3   5  57  33  73  72  55  41]\n",
      "label\n",
      " [0.]\n",
      "data\n",
      " [  0  99  42  53  64  71  64  15  22  82  55  75  80  74  55   7  40  25\n",
      "  57  59  64  52  52  42 102   3  57  75  24  29  70   4  59  69  71  47\n",
      "  57  23  18  62  57  23  13  10  31  57  75  39  84  42  26  92  61   8\n",
      "  40  42  74  12  25  57  39  64  88   4  73  39  25  57  29  93  54  66\n",
      "  96  97  52  55  94  40  57  67  64 102  16  68  64  74  74  44  29  11\n",
      "  32  79   4  65  57  72   8   6  49  22  75  64  94  40  86  47  13  19\n",
      "  83  94   0  52  41  19  65  91  19   4  27   6  59  36  58  57  62  24\n",
      "  24  83  74  26  97  36  59  16  42  56  15  55  55  99  64  86  96  74\n",
      "  57  85  25  10  83  40  76  52  51  25  52 101  10  28  91  57  62   4\n",
      "   7  85  75  80  52  70   0  44  81   5  50  69  44  84  91  45  87  24\n",
      "  99   5   0  31  25  22  95  18  24  15  83  42  50  52   8  24  24  12\n",
      "  70  41  62]\n",
      "label\n",
      " [0.]\n",
      "data\n",
      " [ 96  41  44  73 102   7  42  57   3  98  44  10  57  70  21  25  86  73\n",
      "  44  98  22  31  48  64  42  11  57  17  63  64  57  11  42  25  91  73\n",
      "  23  42  95  64  36  44  70  42  11  26  64  26  96  73  44  64  57  22\n",
      "  91  69  42  25  35  49  22  72  35  81  65  57   3  66  54  91  18  44\n",
      "  34 101   3  74  57  84  36  40  57  29  80  64  42  21  57  16  40  42\n",
      "  63  64  29  17  96  57   6  87  24  53  59  35  44  69  74  57  11 101\n",
      "  68  36  44  70  38   4   8  74  79  19  44  36  41  63 100  63  41  25\n",
      "   8  64  57  80  83  42  81  43  15  57  24  21  99  93  43  41  12  55\n",
      "  57  76  44  98  57  43  64  38   4  11  44  57  42  88  19  91  10  44\n",
      " 100  99  88  23  60  53  57  13  11  72  35  25  66  57  11  58  15  52\n",
      "  59  73  42  75  94  75  42  15  74  59  41  43  81  44  37  40  57  10\n",
      "  68  69  27  44  70  25  22  66  74  77  74  57  97  57  25  35  99  57\n",
      "  62  53  37  53   3  11  49  88  70  24  53  55]\n",
      "label\n",
      " [0.]\n",
      "data\n",
      " [ 57  44  91  48  64  99  43  31  44  83  94   6  24  45  53  36  15  85\n",
      "  60  25  66  90  29  57  44  18  73  40  76  53  44 100  19  57  53  76\n",
      " 100  22  74  57   9  79  55  63  44  93  30  55  30  23  17   6  35  35\n",
      "   4  24  76  79   4  57  37  56  60  64  57  36  36  30  25  83  80   7\n",
      "  91  71  44  16  57  44  40  57  31  67  14  57  87  32  57  82  15  57\n",
      "  21  45 102  74  23  53  12  21  71  37  44  90   4  26  57  24  64   7\n",
      "   6   4  83  14  25  22  48 100   6  69  68  93  44 100  79  55   0  53\n",
      "  44  69  41  69  91  67  60  81  22  48  59  76  86  15  23  44  98  84\n",
      "  25   0  44  65  53  83  33   8   3  91  25  83  94  79   4  42  91  52\n",
      "  75  13   0  70  41  71  42  87  24  42]\n",
      "label\n",
      " [0.]\n",
      "data\n",
      " [ 57  72  66  22  48  43  44   3  23  91  41  23  22  35   0  55  52  53\n",
      "  18  99  40  42  20  34  24  53  44  35  58  41  28  59  55  42  38  48\n",
      "  41  23  62  57  92  23  36  57  12  23  74  40  74  42  47  64   7  96\n",
      "  72  49  19  44  58  26  42  81  48  24  43   8  64  57  73  60  64  57\n",
      "  59  86  79  23  72   8  55  59  85   3  64  67  25  57  52  55 100  41\n",
      "  23  21  25  37  99 100  36  30  83  57  61  19  63  83  71  69  54  44\n",
      "  24  22  41  41  25  82  40  99  78  55   7 100  36  57  40  64  88  71\n",
      "  25 101  63  75 100  57  99  24   9  71   8  57   9  23  30  72  22  48]\n",
      "label\n",
      " [0.]\n",
      "data\n",
      " [  6  42  57  53  86  35  79  25  57 100   4  30   4  57  26  28  25  52\n",
      "   4  64  60  28   4  57 100  95  65  65  57  95  65  64  52  74  66  19\n",
      "  25  57   4  66  28  93 100  41   4   4  91  22  23  57  35  19   6   4\n",
      "  25  15 102  15  24  22  23  57  28  64  48  91  53   5 100  15  70  91\n",
      "  83 100  20  64  57  70  25  44   4 100  25   4   4  79   4   8  55  91\n",
      "  36 100  57  44  13  72  23  91   4  88  41  15  17  71  25  84  41  19\n",
      "  71  24  41   0   9  24  80  91  22  24  24  41  42  86  42  41  36 100\n",
      "   4   4  51  94  48  40  44   4  27  85  59 102  40  41  26  49  84  20\n",
      "  63  39  97  47  47  53  38  44  48  41   5 100  87  99]\n",
      "label\n",
      " [1.]\n"
     ]
    }
   ],
   "source": [
    "# combine (and shuffle the pos and neg examples)...\n",
    "\n",
    "full_dataset_with_labels = dataset_with_labels_neg.concatenate(dataset_with_labels_pos)\n",
    "full_dataset_with_labels_shuffled = full_dataset_with_labels.shuffle(20000)\n",
    "\n",
    "for x in full_dataset_with_labels_shuffled.take(10):\n",
    "    print('data\\n', x[0].numpy())\n",
    "    print('label\\n', x[1].numpy())"
   ]
  },
  {
   "cell_type": "code",
   "execution_count": 7,
   "metadata": {},
   "outputs": [],
   "source": [
    "# pad the encodings so all messages are the same length\n",
    "\n",
    "#...not certain this is requried\n",
    "\n",
    "# def pad_encodings(encoding):\n",
    "#     return tf.pad(encoding, )"
   ]
  },
  {
   "cell_type": "markdown",
   "metadata": {},
   "source": [
    "## Create an embedding for the encoded reviews"
   ]
  },
  {
   "cell_type": "code",
   "execution_count": 8,
   "metadata": {},
   "outputs": [
    {
     "name": "stdout",
     "output_type": "stream",
     "text": [
      "Model: \"sequential\"\n",
      "_________________________________________________________________\n",
      "Layer (type)                 Output Shape              Param #   \n",
      "=================================================================\n",
      "embedding (Embedding)        (None, None, 4)           804       \n",
      "_________________________________________________________________\n",
      "global_average_pooling1d (Gl (None, 4)                 0         \n",
      "_________________________________________________________________\n",
      "dense (Dense)                (None, 16)                80        \n",
      "_________________________________________________________________\n",
      "dense_1 (Dense)              (None, 1)                 17        \n",
      "=================================================================\n",
      "Total params: 901\n",
      "Trainable params: 901\n",
      "Non-trainable params: 0\n",
      "_________________________________________________________________\n"
     ]
    }
   ],
   "source": [
    "embedding_dim=4\n",
    "\n",
    "# TODO: How to specify input size - need to pad encodings?\n",
    "# And if so need to sort out masking so padding is ignored.\n",
    "\n",
    "model = tf.keras.Sequential([\n",
    "  tf.keras.layers.Embedding(201, embedding_dim),\n",
    "  tf.keras.layers.GlobalAveragePooling1D(),\n",
    "  tf.keras.layers.Dense(16, activation='relu'),\n",
    "  tf.keras.layers.Dense(1, activation='sigmoid')\n",
    "])\n",
    "\n",
    "model.summary()"
   ]
  },
  {
   "cell_type": "code",
   "execution_count": 9,
   "metadata": {},
   "outputs": [],
   "source": [
    "model.compile(optimizer='adam',\n",
    "              loss='binary_crossentropy',\n",
    "              metrics=['accuracy'])"
   ]
  },
  {
   "cell_type": "code",
   "execution_count": 10,
   "metadata": {},
   "outputs": [
    {
     "name": "stdout",
     "output_type": "stream",
     "text": [
      "25000/25000 [==============================] - 78s 3ms/step - loss: 0.6909 - accuracy: 0.5259\n"
     ]
    },
    {
     "data": {
      "text/plain": [
       "<tensorflow.python.keras.callbacks.History at 0x7fc2ec4cce80>"
      ]
     },
     "execution_count": 10,
     "metadata": {},
     "output_type": "execute_result"
    }
   ],
   "source": [
    "model.fit(full_dataset_with_labels_shuffled)"
   ]
  },
  {
   "cell_type": "code",
   "execution_count": null,
   "metadata": {},
   "outputs": [],
   "source": []
  },
  {
   "cell_type": "code",
   "execution_count": null,
   "metadata": {},
   "outputs": [],
   "source": []
  },
  {
   "cell_type": "markdown",
   "metadata": {},
   "source": [
    "### Create a preprocessing layer for reading in the reviews"
   ]
  },
  {
   "cell_type": "code",
   "execution_count": 11,
   "metadata": {},
   "outputs": [],
   "source": [
    "import tensorflow.keras as keras\n",
    "\n",
    "class EncodingLayer(keras.layers.Layer):\n",
    "    def adapt(self):\n",
    "        pass\n",
    "    def call(self):\n",
    "        pass"
   ]
  },
  {
   "cell_type": "code",
   "execution_count": 12,
   "metadata": {},
   "outputs": [
    {
     "ename": "NameError",
     "evalue": "name 'data_sample' is not defined",
     "output_type": "error",
     "traceback": [
      "\u001b[0;31m---------------------------------------------------------------------------\u001b[0m",
      "\u001b[0;31mNameError\u001b[0m                                 Traceback (most recent call last)",
      "\u001b[0;32m<ipython-input-12-475613ba8faa>\u001b[0m in \u001b[0;36m<module>\u001b[0;34m\u001b[0m\n\u001b[1;32m      1\u001b[0m \u001b[0mencoding_layer\u001b[0m \u001b[0;34m=\u001b[0m \u001b[0mEncodingLayer\u001b[0m\u001b[0;34m(\u001b[0m\u001b[0;34m)\u001b[0m\u001b[0;34m\u001b[0m\u001b[0;34m\u001b[0m\u001b[0m\n\u001b[0;32m----> 2\u001b[0;31m \u001b[0mencoding_layer\u001b[0m\u001b[0;34m.\u001b[0m\u001b[0madapt\u001b[0m\u001b[0;34m(\u001b[0m\u001b[0mdata_sample\u001b[0m\u001b[0;34m)\u001b[0m\u001b[0;34m\u001b[0m\u001b[0;34m\u001b[0m\u001b[0m\n\u001b[0m",
      "\u001b[0;31mNameError\u001b[0m: name 'data_sample' is not defined"
     ]
    }
   ],
   "source": [
    "encoding_layer = EncodingLayer()\n",
    "encoding_layer.adapt(data_sample)"
   ]
  }
 ],
 "metadata": {
  "kernelspec": {
   "display_name": "Python 3",
   "language": "python",
   "name": "python3"
  },
  "language_info": {
   "codemirror_mode": {
    "name": "ipython",
    "version": 3
   },
   "file_extension": ".py",
   "mimetype": "text/x-python",
   "name": "python",
   "nbconvert_exporter": "python",
   "pygments_lexer": "ipython3",
   "version": "3.7.3"
  }
 },
 "nbformat": 4,
 "nbformat_minor": 2
}
