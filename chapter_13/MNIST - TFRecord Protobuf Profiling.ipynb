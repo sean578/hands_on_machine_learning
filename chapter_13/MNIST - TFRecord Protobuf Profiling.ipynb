{
 "cells": [
  {
   "cell_type": "markdown",
   "metadata": {},
   "source": [
    "## Import the MNIST dataset and split into train, val and test"
   ]
  },
  {
   "cell_type": "code",
   "execution_count": 1,
   "metadata": {},
   "outputs": [
    {
     "name": "stdout",
     "output_type": "stream",
     "text": [
      "(60000, 28, 28)\n",
      "(10000, 28, 28)\n",
      "(60000,)\n",
      "(10000,)\n"
     ]
    }
   ],
   "source": [
    "import tensorflow as tf\n",
    "from tensorflow import keras\n",
    "\n",
    "fashion_mnist = keras.datasets.fashion_mnist\n",
    "\n",
    "(train_images, train_labels), (test_images, test_labels) = fashion_mnist.load_data()\n",
    "\n",
    "print(train_images.shape)\n",
    "print(test_images.shape)\n",
    "print(train_labels.shape)\n",
    "print(test_labels.shape)"
   ]
  },
  {
   "cell_type": "code",
   "execution_count": 2,
   "metadata": {},
   "outputs": [
    {
     "name": "stdout",
     "output_type": "stream",
     "text": [
      "(50000, 28, 28)\n",
      "(10000, 28, 28)\n",
      "(50000, 10)\n",
      "(10000, 10)\n",
      "uint8\n",
      "float32\n",
      "[0. 0. 0. 0. 0. 0. 0. 0. 0. 1.]\n"
     ]
    }
   ],
   "source": [
    "from tensorflow.keras.utils import to_categorical\n",
    "import numpy as np\n",
    "\n",
    "boundary = 50000\n",
    "num_classes = 10\n",
    "\n",
    "X_train = train_images[:boundary, :, :]\n",
    "y_train = to_categorical(train_labels[:boundary], num_classes=num_classes)\n",
    "\n",
    "X_val = train_images[boundary:, :, :]\n",
    "y_val = to_categorical(train_labels[boundary:], num_classes=num_classes)\n",
    "\n",
    "print(X_train.shape)\n",
    "print(X_val.shape)\n",
    "print(y_train.shape)\n",
    "print(y_val.shape)\n",
    "\n",
    "print(X_train.dtype)\n",
    "print(y_train.dtype)\n",
    "\n",
    "print(y_train[0])"
   ]
  },
  {
   "cell_type": "markdown",
   "metadata": {},
   "source": [
    "## Save the data using TensorFlow protobufs and TFRecord files"
   ]
  },
  {
   "cell_type": "markdown",
   "metadata": {},
   "source": [
    "### Serialize the image & label"
   ]
  },
  {
   "cell_type": "code",
   "execution_count": 3,
   "metadata": {},
   "outputs": [
    {
     "data": {
      "image/png": "[encoded data removed]",
      "text/plain": [
       "<Figure size 432x288 with 1 Axes>"
      ]
     },
     "metadata": {
      "needs_background": "light"
     },
     "output_type": "display_data"
    }
   ],
   "source": [
    "import matplotlib.pyplot as plt\n",
    "%matplotlib inline\n",
    "\n",
    "sample_image_number = 123\n",
    "\n",
    "# View the image we are serializing\n",
    "plt.imshow(X_train[sample_image_number], cmap='gray')\n",
    "plt.show()"
   ]
  },
  {
   "cell_type": "code",
   "execution_count": 4,
   "metadata": {},
   "outputs": [
    {
     "name": "stdout",
     "output_type": "stream",
     "text": [
      "Sample image label =  [0. 0. 1. 0. 0. 0. 0. 0. 0. 0.]\n",
      "# of serialized images =  50000\n",
      "# of serialized labels =  50000\n"
     ]
    }
   ],
   "source": [
    "print('Sample image label = ', y_train[sample_image_number])\n",
    "\n",
    "image_tensors = []\n",
    "for image in X_train:\n",
    "    image_tensors.append(tf.io.serialize_tensor(tensor = image))\n",
    "    \n",
    "label_tensors = []\n",
    "for label in y_train:\n",
    "    label_tensors.append(tf.io.serialize_tensor(tensor = label))\n",
    "\n",
    "print('# of serialized images = ', len(image_tensors))\n",
    "print('# of serialized labels = ', len(label_tensors))"
   ]
  },
  {
   "cell_type": "markdown",
   "metadata": {},
   "source": [
    "### Define the the protobuf"
   ]
  },
  {
   "cell_type": "code",
   "execution_count": 5,
   "metadata": {},
   "outputs": [],
   "source": [
    "from tensorflow.compat.v2.train import Feature, Features, Example, BytesList, FloatList\n",
    "\n",
    "images_as_bytes = []\n",
    "labels_as_bytes = []\n",
    "for image_tensor, label_tensor in zip(image_tensors, label_tensors):\n",
    "    images_as_bytes.append(BytesList(value=[image_tensor.numpy()])) # Convert image to bytes list\n",
    "    labels_as_bytes.append(BytesList(value=[label_tensor.numpy()])) # Convert label to bytes list\n",
    "\n",
    "protobuf_data = []\n",
    "for image, label in zip(images_as_bytes, labels_as_bytes):\n",
    "    protobuf_data.append(Example(\n",
    "        features = Features(\n",
    "            feature={\n",
    "                'image': Feature(bytes_list = image),\n",
    "                'label': Feature(bytes_list = label)\n",
    "            }\n",
    "        )\n",
    "    ))"
   ]
  },
  {
   "cell_type": "code",
   "execution_count": 6,
   "metadata": {},
   "outputs": [],
   "source": [
    "# print(protobuf_data[sample_image_number])"
   ]
  },
  {
   "cell_type": "markdown",
   "metadata": {},
   "source": [
    "## Write the records to file"
   ]
  },
  {
   "cell_type": "code",
   "execution_count": 7,
   "metadata": {},
   "outputs": [],
   "source": [
    "with tf.io.TFRecordWriter('my_records.tfrecord') as f:\n",
    "    for data in protobuf_data:\n",
    "        f.write(data.SerializeToString())"
   ]
  },
  {
   "cell_type": "markdown",
   "metadata": {},
   "source": [
    "## Read the records from file"
   ]
  },
  {
   "cell_type": "markdown",
   "metadata": {},
   "source": [
    "### Define what the protobuf entries are"
   ]
  },
  {
   "cell_type": "code",
   "execution_count": 8,
   "metadata": {},
   "outputs": [],
   "source": [
    "feature_description = {\n",
    "    'image': tf.io.FixedLenFeature([], tf.string),\n",
    "    'label': tf.io.FixedLenFeature([], tf.string)\n",
    "}"
   ]
  },
  {
   "cell_type": "markdown",
   "metadata": {},
   "source": [
    "### Read in the data"
   ]
  },
  {
   "cell_type": "code",
   "execution_count": 9,
   "metadata": {},
   "outputs": [],
   "source": [
    "read_images = []\n",
    "read_labels = []\n",
    "for serialized_example in tf.data.TFRecordDataset(['my_records.tfrecord']):\n",
    "    parsed_example = tf.io.parse_single_example(serialized_example, feature_description)\n",
    "    read_images.append(tf.io.parse_tensor(parsed_example['image'], out_type=tf.uint8))\n",
    "    read_labels.append(tf.io.parse_tensor(parsed_example['label'], out_type=tf.float32))"
   ]
  },
  {
   "cell_type": "markdown",
   "metadata": {},
   "source": [
    "### Check the image and label read from file are correct"
   ]
  },
  {
   "cell_type": "code",
   "execution_count": 10,
   "metadata": {},
   "outputs": [
    {
     "data": {
      "image/png": "[encoded data removed]",
      "text/plain": [
       "<Figure size 432x288 with 1 Axes>"
      ]
     },
     "metadata": {
      "needs_background": "light"
     },
     "output_type": "display_data"
    },
    {
     "name": "stdout",
     "output_type": "stream",
     "text": [
      "example label =  [0. 0. 1. 0. 0. 0. 0. 0. 0. 0.]\n"
     ]
    }
   ],
   "source": [
    "import matplotlib.pyplot as plt\n",
    "\n",
    "plt.imshow(read_images[sample_image_number], cmap='gray')\n",
    "plt.show()\n",
    "\n",
    "print('example label = ', read_labels[sample_image_number].numpy())"
   ]
  },
  {
   "cell_type": "code",
   "execution_count": null,
   "metadata": {},
   "outputs": [],
   "source": []
  }
 ],
 "metadata": {
  "kernelspec": {
   "display_name": "Python 3",
   "language": "python",
   "name": "python3"
  },
  "language_info": {
   "codemirror_mode": {
    "name": "ipython",
    "version": 3
   },
   "file_extension": ".py",
   "mimetype": "text/x-python",
   "name": "python",
   "nbconvert_exporter": "python",
   "pygments_lexer": "ipython3",
   "version": "3.7.3"
  }
 },
 "nbformat": 4,
 "nbformat_minor": 2
}
