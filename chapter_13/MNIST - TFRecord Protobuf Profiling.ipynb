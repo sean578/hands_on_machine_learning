{
 "cells": [
  {
   "cell_type": "markdown",
   "metadata": {},
   "source": [
    "## Import the MNIST dataset and split into train, val and test"
   ]
  },
  {
   "cell_type": "code",
   "execution_count": 1,
   "metadata": {},
   "outputs": [
    {
     "name": "stdout",
     "output_type": "stream",
     "text": [
      "(60000, 28, 28)\n",
      "(10000, 28, 28)\n",
      "(60000,)\n",
      "(10000,)\n"
     ]
    }
   ],
   "source": [
    "import tensorflow as tf\n",
    "from tensorflow import keras\n",
    "\n",
    "fashion_mnist = keras.datasets.fashion_mnist\n",
    "\n",
    "(train_images, train_labels), (test_images, test_labels) = fashion_mnist.load_data()\n",
    "\n",
    "print(train_images.shape)\n",
    "print(test_images.shape)\n",
    "print(train_labels.shape)\n",
    "print(test_labels.shape)"
   ]
  },
  {
   "cell_type": "code",
   "execution_count": 2,
   "metadata": {},
   "outputs": [
    {
     "name": "stdout",
     "output_type": "stream",
     "text": [
      "(50000, 28, 28)\n",
      "(10000, 28, 28)\n",
      "(50000, 10)\n",
      "(10000, 10)\n",
      "uint8\n",
      "float32\n",
      "[0. 0. 0. 0. 0. 0. 0. 0. 0. 1.]\n"
     ]
    }
   ],
   "source": [
    "from tensorflow.keras.utils import to_categorical\n",
    "import numpy as np\n",
    "\n",
    "boundary = 50000\n",
    "num_classes = 10\n",
    "\n",
    "X_train = train_images[:boundary, :, :]\n",
    "y_train = to_categorical(train_labels[:boundary], num_classes=num_classes)\n",
    "\n",
    "X_val = train_images[boundary:, :, :]\n",
    "y_val = to_categorical(train_labels[boundary:], num_classes=num_classes)\n",
    "\n",
    "print(X_train.shape)\n",
    "print(X_val.shape)\n",
    "print(y_train.shape)\n",
    "print(y_val.shape)\n",
    "\n",
    "print(X_train.dtype)\n",
    "print(y_train.dtype)\n",
    "\n",
    "print(y_train[0])"
   ]
  },
  {
   "cell_type": "markdown",
   "metadata": {},
   "source": [
    "## Shuffle the training data\n",
    "### Use the Tensorflow dataset API"
   ]
  },
  {
   "cell_type": "code",
   "execution_count": 3,
   "metadata": {},
   "outputs": [
    {
     "name": "stdout",
     "output_type": "stream",
     "text": [
      "[0. 0. 0. 0. 0. 1. 0. 0. 0. 0.]\n"
     ]
    },
    {
     "data": {
      "image/png": "[encoded data removed]",
      "text/plain": [
       "<Figure size 432x288 with 1 Axes>"
      ]
     },
     "metadata": {
      "needs_background": "light"
     },
     "output_type": "display_data"
    }
   ],
   "source": [
    "import matplotlib.pyplot as plt\n",
    "%matplotlib inline\n",
    "\n",
    "shuffle_seed = 47\n",
    "buffer_size = 100\n",
    "\n",
    "X_train_shuffled = tf.data.Dataset.from_tensor_slices(X_train).shuffle(buffer_size=buffer_size, \n",
    "                                                                       seed = shuffle_seed)\n",
    "y_train_shuffled = tf.data.Dataset.from_tensor_slices(y_train).shuffle(buffer_size=buffer_size, \n",
    "                                                                       seed = shuffle_seed)\n",
    "\n",
    "for image in X_train_shuffled.take(1):\n",
    "    plt.imshow(image)\n",
    "for label in y_train_shuffled.take(1):\n",
    "    print(label.numpy())"
   ]
  },
  {
   "cell_type": "markdown",
   "metadata": {},
   "source": [
    "## Save the data using TensorFlow protobufs and TFRecord files"
   ]
  },
  {
   "cell_type": "markdown",
   "metadata": {},
   "source": [
    "### Serialize the image & label"
   ]
  },
  {
   "cell_type": "code",
   "execution_count": 11,
   "metadata": {},
   "outputs": [
    {
     "name": "stdout",
     "output_type": "stream",
     "text": [
      "# of serialized train images =  50000\n",
      "# of serialized train labels =  50000\n",
      "# of serialized val images =  10000\n",
      "# of serialized val labels =  10000\n"
     ]
    }
   ],
   "source": [
    "def serialize_tensors(X):\n",
    "    X_serial = []\n",
    "    for x in X:\n",
    "        X_serial.append(tf.io.serialize_tensor(tensor = x))\n",
    "    return X_serial\n",
    "    \n",
    "###############################################\n",
    "\n",
    "X_train_serial = serialize_tensors(X_train_shuffled)\n",
    "X_val_serial = serialize_tensors(X_val)\n",
    "y_train_serial = serialize_tensors(y_train_shuffled)\n",
    "y_val_serial = serialize_tensors(y_val)\n",
    "\n",
    "print('# of serialized train images = ', len(X_train_serial))\n",
    "print('# of serialized train labels = ', len(y_train_serial))\n",
    "\n",
    "print('# of serialized val images = ', len(X_val_serial))\n",
    "print('# of serialized val labels = ', len(y_val_serial))"
   ]
  },
  {
   "cell_type": "markdown",
   "metadata": {},
   "source": [
    "### Create the protobufs"
   ]
  },
  {
   "cell_type": "code",
   "execution_count": 12,
   "metadata": {},
   "outputs": [],
   "source": [
    "from tensorflow.compat.v2.train import Feature, Features, Example, BytesList\n",
    "import numpy as np\n",
    "\n",
    "# Only the numpy array of the tensor is saved to file --> lose all other tensor info\n",
    "\n",
    "def create_protobuf_X_and_y(X_serial, y_serial, X_shape, y_shape):\n",
    "\n",
    "    X_as_bytes = []\n",
    "    y_as_bytes = []\n",
    "    X_shape_as_bytes = [] \n",
    "    y_shape_as_bytes = []\n",
    "    for X, y in zip(X_serial, y_serial):\n",
    "        X_as_bytes.append(BytesList(value=[X.numpy()])) # Convert image to bytes list\n",
    "        y_as_bytes.append(BytesList(value=[y.numpy()])) # Convert label to bytes list\n",
    "        X_shape_as_bytes.append(BytesList(value=[X_shape.numpy()]))\n",
    "        y_shape_as_bytes.append(BytesList(value=[y_shape.numpy()]))\n",
    "        \n",
    "    protobuf_data = []\n",
    "    for X, y, X_shape, y_shape in zip(X_as_bytes, y_as_bytes, X_shape_as_bytes, y_shape_as_bytes):\n",
    "        protobuf_data.append(Example(\n",
    "            features = Features(\n",
    "                feature={\n",
    "                    'X': Feature(bytes_list = X),\n",
    "                    'y': Feature(bytes_list = y),\n",
    "                    'X_shape': Feature(bytes_list = X_shape),\n",
    "                    'y_shape': Feature(bytes_list = y_shape)\n",
    "                }\n",
    "            )\n",
    "        ))\n",
    "        \n",
    "    return protobuf_data\n",
    "X_shape = tf.io.serialize_tensor(tensor = [28, 28])\n",
    "y_shape = tf.io.serialize_tensor(tensor = [10])\n",
    "\n",
    "protobuf_data_train = create_protobuf_X_and_y(X_train_serial, \n",
    "                                              y_train_serial, \n",
    "                                              X_shape, \n",
    "                                              y_shape)\n",
    "\n",
    "protobuf_data_val = create_protobuf_X_and_y(X_val_serial, \n",
    "                                              y_val_serial, \n",
    "                                              X_shape, \n",
    "                                              y_shape)"
   ]
  },
  {
   "cell_type": "markdown",
   "metadata": {},
   "source": [
    "## Write the records to file"
   ]
  },
  {
   "cell_type": "code",
   "execution_count": 13,
   "metadata": {},
   "outputs": [],
   "source": [
    "def write_tf_records(filename, data):\n",
    "    with tf.io.TFRecordWriter(filename) as f:\n",
    "        for d in data:\n",
    "            f.write(d.SerializeToString())\n",
    "            \n",
    "write_tf_records('train.tfrecord', protobuf_data_train)\n",
    "write_tf_records('val.tfrecord', protobuf_data_val)"
   ]
  },
  {
   "cell_type": "markdown",
   "metadata": {},
   "source": [
    "## Read the records from file"
   ]
  },
  {
   "cell_type": "code",
   "execution_count": 15,
   "metadata": {},
   "outputs": [],
   "source": [
    "def extract_fn(data_record):\n",
    "    \n",
    "    feature_description = {\n",
    "    'X': tf.io.FixedLenFeature([], tf.string),\n",
    "    'y': tf.io.FixedLenFeature([], tf.string),\n",
    "    'X_shape': tf.io.FixedLenFeature([], tf.string),\n",
    "    'y_shape': tf.io.FixedLenFeature([], tf.string)\n",
    "    }\n",
    "    \n",
    "    return tf.io.parse_single_example(data_record, feature_description)\n",
    "\n",
    "dataset_train = tf.data.TFRecordDataset(['train.tfrecord'])\n",
    "dataset_train = dataset_train.map(extract_fn) # Strings of numpy data for x, y\n",
    "\n",
    "dataset_val = tf.data.TFRecordDataset(['val.tfrecord'])\n",
    "dataset_val = dataset_val.map(extract_fn) # Strings of numpy data for x, y\n",
    "\n",
    "def create_image_label_pairs(data_record):\n",
    "    \n",
    "    X = tf.io.parse_tensor(data_record['X'], out_type=tf.uint8)\n",
    "    y = tf.io.parse_tensor(data_record['y'], out_type=tf.float32)\n",
    "    X_shape = tf.io.parse_tensor(data_record['X_shape'], out_type=tf.float32)\n",
    "    y_shape = tf.io.parse_tensor(data_record['y_shape'], out_type=tf.float32)\n",
    "    \n",
    "    # TODO: Get the shapes out of the TFRecord so can use them here\n",
    "    \n",
    "    X.set_shape((28,28))\n",
    "    y.set_shape((10))\n",
    "    \n",
    "    return (X, y)\n",
    "        \n",
    "dataset_train_tuple = dataset_train.map(create_image_label_pairs) # Create tuples of image, label tensors\n",
    "dataset_val_tuple = dataset_val.map(create_image_label_pairs) # Create tuples of image, label tensors"
   ]
  },
  {
   "cell_type": "markdown",
   "metadata": {},
   "source": [
    "## Train a model using Keras"
   ]
  },
  {
   "cell_type": "code",
   "execution_count": 16,
   "metadata": {},
   "outputs": [],
   "source": [
    "model = keras.models.Sequential([\n",
    "    keras.layers.Flatten(input_shape=(28, 28)),\n",
    "    keras.layers.Dense(30, activation='relu', kernel_initializer='glorot_uniform'),\n",
    "    keras.layers.Dense(30, activation='relu', kernel_initializer='glorot_uniform'),\n",
    "    keras.layers.Dense(10, activation='softmax')\n",
    "])"
   ]
  },
  {
   "cell_type": "code",
   "execution_count": 17,
   "metadata": {},
   "outputs": [
    {
     "name": "stdout",
     "output_type": "stream",
     "text": [
      "Model: \"sequential_1\"\n",
      "_________________________________________________________________\n",
      "Layer (type)                 Output Shape              Param #   \n",
      "=================================================================\n",
      "flatten_1 (Flatten)          (None, 784)               0         \n",
      "_________________________________________________________________\n",
      "dense_3 (Dense)              (None, 30)                23550     \n",
      "_________________________________________________________________\n",
      "dense_4 (Dense)              (None, 30)                930       \n",
      "_________________________________________________________________\n",
      "dense_5 (Dense)              (None, 10)                310       \n",
      "=================================================================\n",
      "Total params: 24,790\n",
      "Trainable params: 24,790\n",
      "Non-trainable params: 0\n",
      "_________________________________________________________________\n"
     ]
    }
   ],
   "source": [
    "model.compile(loss='categorical_crossentropy',\n",
    "              optimizer=keras.optimizers.Adam(lr=0.001),\n",
    "              metrics=['accuracy'])\n",
    "\n",
    "model.summary()"
   ]
  },
  {
   "cell_type": "code",
   "execution_count": 18,
   "metadata": {},
   "outputs": [
    {
     "name": "stdout",
     "output_type": "stream",
     "text": [
      "Epoch 1/10\n",
      "1563/1563 [==============================] - 6s 4ms/step - loss: 1.6102 - accuracy: 0.5346 - val_loss: 0.0000e+00 - val_accuracy: 0.0000e+00\n",
      "Epoch 2/10\n",
      "1563/1563 [==============================] - 4s 3ms/step - loss: 0.9603 - accuracy: 0.6143 - val_loss: 0.8976 - val_accuracy: 0.6245\n",
      "Epoch 3/10\n",
      "1563/1563 [==============================] - 4s 3ms/step - loss: 0.9219 - accuracy: 0.6229 - val_loss: 0.9193 - val_accuracy: 0.6186\n",
      "Epoch 4/10\n",
      "1563/1563 [==============================] - 5s 3ms/step - loss: 0.9025 - accuracy: 0.6294 - val_loss: 0.8696 - val_accuracy: 0.6303\n",
      "Epoch 5/10\n",
      "1563/1563 [==============================] - 5s 3ms/step - loss: 0.8796 - accuracy: 0.6382 - val_loss: 0.8231 - val_accuracy: 0.6616\n",
      "Epoch 6/10\n",
      "1563/1563 [==============================] - 5s 3ms/step - loss: 0.7579 - accuracy: 0.7161 - val_loss: 0.6789 - val_accuracy: 0.7268\n",
      "Epoch 7/10\n",
      "1563/1563 [==============================] - 5s 3ms/step - loss: 0.7143 - accuracy: 0.7259 - val_loss: 0.6708 - val_accuracy: 0.7293\n",
      "Epoch 8/10\n",
      "1563/1563 [==============================] - 5s 3ms/step - loss: 0.6691 - accuracy: 0.7324 - val_loss: 0.7020 - val_accuracy: 0.7096\n",
      "Epoch 9/10\n",
      "1563/1563 [==============================] - 5s 3ms/step - loss: 0.6533 - accuracy: 0.7339 - val_loss: 0.6979 - val_accuracy: 0.7173\n",
      "Epoch 10/10\n",
      "1563/1563 [==============================] - 5s 3ms/step - loss: 0.6598 - accuracy: 0.7352 - val_loss: 0.6606 - val_accuracy: 0.7271\n"
     ]
    },
    {
     "data": {
      "text/plain": [
       "<tensorflow.python.keras.callbacks.History at 0x7f273c0ae8d0>"
      ]
     },
     "execution_count": 18,
     "metadata": {},
     "output_type": "execute_result"
    }
   ],
   "source": [
    "model.fit(dataset_train_tuple.batch(32), \n",
    "          validation_data=dataset_val_tuple.batch(32), \n",
    "          epochs=10)"
   ]
  },
  {
   "cell_type": "code",
   "execution_count": null,
   "metadata": {},
   "outputs": [],
   "source": []
  },
  {
   "cell_type": "code",
   "execution_count": null,
   "metadata": {},
   "outputs": [],
   "source": []
  },
  {
   "cell_type": "code",
   "execution_count": null,
   "metadata": {},
   "outputs": [],
   "source": []
  }
 ],
 "metadata": {
  "kernelspec": {
   "display_name": "Python 3",
   "language": "python",
   "name": "python3"
  },
  "language_info": {
   "codemirror_mode": {
    "name": "ipython",
    "version": 3
   },
   "file_extension": ".py",
   "mimetype": "text/x-python",
   "name": "python",
   "nbconvert_exporter": "python",
   "pygments_lexer": "ipython3",
   "version": "3.7.3"
  }
 },
 "nbformat": 4,
 "nbformat_minor": 2
}
