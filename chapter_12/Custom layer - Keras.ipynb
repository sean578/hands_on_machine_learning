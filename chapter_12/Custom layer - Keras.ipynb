{
 "cells": [
  {
   "cell_type": "markdown",
   "metadata": {},
   "source": [
    "# Implement a custom layer that performs layer normalisation"
   ]
  },
  {
   "cell_type": "markdown",
   "metadata": {},
   "source": [
    "## Define the layer (inherit from keras layer class)"
   ]
  },
  {
   "cell_type": "code",
   "execution_count": 18,
   "metadata": {},
   "outputs": [],
   "source": [
    "import tensorflow as tf\n",
    "from tensorflow import keras\n",
    "\n",
    "class MyDense(keras.layers.Layer):\n",
    "    def __init__(self, **kwargs):\n",
    "        super().__init__(**kwargs)\n",
    "        \n",
    "    def build(self, batch_input_shape):\n",
    "        self.alpha = self.add_weight(name='alpha', \n",
    "                                     shape=batch_input_shape[-1:], \n",
    "                                     dtype=tf.float32,\n",
    "                                     initializer='ones')\n",
    "        \n",
    "        self.beta = self.add_weight(name='beta', \n",
    "                                    shape=batch_input_shape[-1:], \n",
    "                                    dtype=tf.float32,\n",
    "                                    initializer='zeros')\n",
    "        \n",
    "    def call(self, X):\n",
    "        mean, variance = tf.nn.moments(X,\n",
    "                                       axes=-1,\n",
    "                                       keepdims=True)\n",
    "        sd = tf.math.sqrt(variance)\n",
    "        \n",
    "        epsilon = 0.001\n",
    "        \n",
    "        return tf.math.multiply(self.alpha, X - mean)/(sd + epsilon) + self.beta"
   ]
  },
  {
   "cell_type": "code",
   "execution_count": 46,
   "metadata": {},
   "outputs": [
    {
     "name": "stdout",
     "output_type": "stream",
     "text": [
      "[[0.06490835 0.58166593 0.10745182]]\n",
      "tf.Tensor([[0.54953444 0.9669924  0.44822013]], shape=(1, 3), dtype=float32)\n"
     ]
    }
   ],
   "source": [
    "import numpy as np\n",
    "\n",
    "X1 = np.random.rand(1, 3).astype(np.float32)  # float 32 used by tensorflow\n",
    "X2 = tf.random.uniform((1,3))\n",
    "print(X1)\n",
    "print(X2)"
   ]
  },
  {
   "cell_type": "code",
   "execution_count": 47,
   "metadata": {
    "scrolled": true
   },
   "outputs": [
    {
     "name": "stdout",
     "output_type": "stream",
     "text": [
      "[]\n"
     ]
    }
   ],
   "source": [
    "layer = tf.keras.layers.LayerNormalization(1, input_shape=(None, 3))\n",
    "print(layer.variables)"
   ]
  },
  {
   "cell_type": "code",
   "execution_count": 48,
   "metadata": {},
   "outputs": [
    {
     "name": "stdout",
     "output_type": "stream",
     "text": [
      "tf.Tensor([[-0.4647863  1.3764219 -0.9116353]], shape=(1, 3), dtype=float32)\n"
     ]
    }
   ],
   "source": [
    "layer_output = layer(X2)\n",
    "print(layer_output)"
   ]
  },
  {
   "cell_type": "code",
   "execution_count": 49,
   "metadata": {},
   "outputs": [
    {
     "name": "stdout",
     "output_type": "stream",
     "text": [
      "[]\n"
     ]
    }
   ],
   "source": [
    "my_dense = MyDense(input_shape=(None, 3))\n",
    "print(my_dense.variables)"
   ]
  },
  {
   "cell_type": "code",
   "execution_count": 50,
   "metadata": {},
   "outputs": [
    {
     "name": "stdout",
     "output_type": "stream",
     "text": [
      "tf.Tensor([[-0.46729255  1.3838441  -0.9165513 ]], shape=(1, 3), dtype=float32)\n"
     ]
    }
   ],
   "source": [
    "layer_output_2 = my_dense(X2)\n",
    "print(layer_output_2)"
   ]
  },
  {
   "cell_type": "code",
   "execution_count": null,
   "metadata": {},
   "outputs": [],
   "source": []
  }
 ],
 "metadata": {
  "kernelspec": {
   "display_name": "Python 3",
   "language": "python",
   "name": "python3"
  },
  "language_info": {
   "codemirror_mode": {
    "name": "ipython",
    "version": 3
   },
   "file_extension": ".py",
   "mimetype": "text/x-python",
   "name": "python",
   "nbconvert_exporter": "python",
   "pygments_lexer": "ipython3",
   "version": "3.7.3"
  }
 },
 "nbformat": 4,
 "nbformat_minor": 2
}
