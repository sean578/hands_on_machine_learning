{
 "cells": [
  {
   "cell_type": "markdown",
   "metadata": {},
   "source": [
    "# Augment the images to get more data for training"
   ]
  },
  {
   "cell_type": "markdown",
   "metadata": {},
   "source": [
    "## Download the data and create train/test datasets"
   ]
  },
  {
   "cell_type": "code",
   "execution_count": null,
   "metadata": {},
   "outputs": [],
   "source": [
    "import numpy as np\n",
    "from sklearn.datasets import fetch_openml\n",
    "\n",
    "boundary = 60000\n",
    "\n",
    "mnist = fetch_openml('mnist_784', version=1)\n",
    "X, y = mnist['data'], mnist['target']\n",
    "X = X.astype(np.uint16)\n",
    "y = y.astype(np.uint8)\n",
    "X_train, X_test, y_train, y_test = X[:boundary], X[boundary:], y[:boundary], y[boundary:]"
   ]
  },
  {
   "cell_type": "code",
   "execution_count": null,
   "metadata": {},
   "outputs": [],
   "source": [
    "X_train.shape"
   ]
  },
  {
   "cell_type": "markdown",
   "metadata": {},
   "source": [
    "## Function to shift the images"
   ]
  },
  {
   "cell_type": "code",
   "execution_count": null,
   "metadata": {},
   "outputs": [],
   "source": [
    "from scipy.ndimage.interpolation import shift\n",
    "\n",
    "def shift_image(image, direction):\n",
    "    \n",
    "    square_image = image.reshape((28, 28))\n",
    "    \n",
    "    if direction == 'left':\n",
    "        shifted_image = shift(square_image, [0, -1])\n",
    "    elif direction == 'right':\n",
    "        shifted_image = shift(square_image, [0, 1])\n",
    "    elif direction == 'up':\n",
    "        shifted_image = shift(square_image, [-1, 0])\n",
    "    elif direction == 'down':\n",
    "        shifted_image = shift(square_image, [1, 0])\n",
    "    else:\n",
    "        print('SHIFT ERROR')\n",
    "        \n",
    "    shifted_image_flat = shifted_image.flatten()\n",
    "    \n",
    "    return shifted_image_flat"
   ]
  },
  {
   "cell_type": "code",
   "execution_count": null,
   "metadata": {},
   "outputs": [],
   "source": [
    "import matplotlib.pyplot as plt\n",
    "\n",
    "plt.imshow(X_train[0].reshape(28,28))"
   ]
  },
  {
   "cell_type": "code",
   "execution_count": null,
   "metadata": {},
   "outputs": [],
   "source": [
    "a_shifted_image = shift_image(X_train[0], 'up')\n",
    "print(a_shifted_image.shape)\n",
    "\n",
    "plt.imshow(a_shifted_image.reshape((28,28)))"
   ]
  },
  {
   "cell_type": "code",
   "execution_count": null,
   "metadata": {},
   "outputs": [],
   "source": [
    "X_train_shift_left = []\n",
    "X_train_shift_right = []\n",
    "X_train_shift_up = []\n",
    "X_train_shift_down = []\n",
    "for image in X_train:\n",
    "    X_train_shift_left.append(shift_image(image, 'left'))\n",
    "    X_train_shift_right.append(shift_image(image, 'right'))\n",
    "    X_train_shift_up.append(shift_image(image, 'up'))\n",
    "    X_train_shift_down.append(shift_image(image, 'down'))\n",
    "    \n",
    "l_array = np.array(X_train_shift_left, dtype=np.int16)\n",
    "r_array = np.array(X_train_shift_right, dtype=np.int16)\n",
    "u_array = np.array(X_train_shift_up, dtype=np.int16)\n",
    "d_array = np.array(X_train_shift_down, dtype=np.int16)"
   ]
  },
  {
   "cell_type": "code",
   "execution_count": null,
   "metadata": {},
   "outputs": [],
   "source": [
    "l_array.shape"
   ]
  },
  {
   "cell_type": "code",
   "execution_count": null,
   "metadata": {},
   "outputs": [],
   "source": [
    "all_train_data = np.r_[X_train, l_array, r_array, u_array, d_array]"
   ]
  },
  {
   "cell_type": "code",
   "execution_count": null,
   "metadata": {},
   "outputs": [],
   "source": [
    "all_train_data.shape"
   ]
  },
  {
   "cell_type": "code",
   "execution_count": null,
   "metadata": {},
   "outputs": [],
   "source": [
    "all_train_labels = np.r_[y_train, y_train, y_train, y_train, y_train]"
   ]
  },
  {
   "cell_type": "code",
   "execution_count": null,
   "metadata": {},
   "outputs": [],
   "source": [
    "all_train_labels.shape"
   ]
  },
  {
   "cell_type": "markdown",
   "metadata": {},
   "source": [
    "## Train a model with the augmented data"
   ]
  },
  {
   "cell_type": "code",
   "execution_count": null,
   "metadata": {},
   "outputs": [],
   "source": [
    "from sklearn.neighbors import KNeighborsClassifier\n",
    "\n",
    "kn_clf = KNeighborsClassifier(n_neighbors=3, weights='uniform')\n",
    "kn_clf.fit(all_train_data, all_train_labels)"
   ]
  },
  {
   "cell_type": "code",
   "execution_count": null,
   "metadata": {},
   "outputs": [],
   "source": [
    "from sklearn.metrics import accuracy_score\n",
    "\n",
    "kn_clf_predictions = kn_clf.predict(X_test)\n",
    "accuracy_score(y_test, kn_clf_predictions)"
   ]
  },
  {
   "cell_type": "code",
   "execution_count": null,
   "metadata": {},
   "outputs": [],
   "source": []
  }
 ],
 "metadata": {
  "kernelspec": {
   "display_name": "Python 3",
   "language": "python",
   "name": "python3"
  },
  "language_info": {
   "codemirror_mode": {
    "name": "ipython",
    "version": 3
   },
   "file_extension": ".py",
   "mimetype": "text/x-python",
   "name": "python",
   "nbconvert_exporter": "python",
   "pygments_lexer": "ipython3",
   "version": "3.7.3"
  }
 },
 "nbformat": 4,
 "nbformat_minor": 2
}
