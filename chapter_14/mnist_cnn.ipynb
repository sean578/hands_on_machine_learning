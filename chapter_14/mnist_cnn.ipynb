{
 "cells": [
  {
   "cell_type": "markdown",
   "metadata": {},
   "source": [
    "# Train a CNN on MNIST"
   ]
  },
  {
   "cell_type": "code",
   "execution_count": 1,
   "metadata": {},
   "outputs": [],
   "source": [
    "import tensorflow as tf\n",
    "\n",
    "(x_train, y_train), (x_rest, y_rest) = tf.keras.datasets.mnist.load_data()"
   ]
  },
  {
   "cell_type": "markdown",
   "metadata": {},
   "source": [
    "### Create test and validation datasets"
   ]
  },
  {
   "cell_type": "code",
   "execution_count": 2,
   "metadata": {},
   "outputs": [],
   "source": [
    "num_val = 5000\n",
    "\n",
    "x_val = x_rest[:num_val]\n",
    "x_test = x_rest[num_val:]\n",
    "\n",
    "y_val = y_rest[:num_val]\n",
    "y_test = y_rest[num_val:]"
   ]
  },
  {
   "cell_type": "markdown",
   "metadata": {},
   "source": [
    "### Add the channel dimension"
   ]
  },
  {
   "cell_type": "code",
   "execution_count": 3,
   "metadata": {},
   "outputs": [
    {
     "name": "stdout",
     "output_type": "stream",
     "text": [
      "(60000, 28, 28, 1)\n"
     ]
    }
   ],
   "source": [
    "import numpy as np\n",
    "\n",
    "x_train_reshaped = x_train[..., np.newaxis]\n",
    "x_val_reshaped = x_val[..., np.newaxis]\n",
    "x_test_reshaped = x_test[..., np.newaxis]\n",
    "print(x_train_reshaped.shape)"
   ]
  },
  {
   "cell_type": "markdown",
   "metadata": {},
   "source": [
    "## Scale the data"
   ]
  },
  {
   "cell_type": "code",
   "execution_count": 4,
   "metadata": {},
   "outputs": [],
   "source": [
    "x_train_reshaped = x_train_reshaped / x_train_reshaped.max()\n",
    "x_val_reshaped = x_val_reshaped / x_val_reshaped.max()\n",
    "x_test_reshaped = x_test_reshaped / x_test_reshaped.max()"
   ]
  },
  {
   "cell_type": "markdown",
   "metadata": {},
   "source": [
    "## Convert integer outputs to one-hot encoding"
   ]
  },
  {
   "cell_type": "code",
   "execution_count": 5,
   "metadata": {},
   "outputs": [
    {
     "name": "stdout",
     "output_type": "stream",
     "text": [
      "5\n",
      "[0. 0. 0. 0. 0. 1. 0. 0. 0. 0.]\n"
     ]
    }
   ],
   "source": [
    "from tensorflow.keras.utils import to_categorical\n",
    "\n",
    "y_train_one_hot = to_categorical(y_train)\n",
    "y_val_one_hot = to_categorical(y_val)\n",
    "y_test_one_hot = to_categorical(y_test)\n",
    "print(y_train[0])\n",
    "print(y_train_one_hot[0])"
   ]
  },
  {
   "cell_type": "markdown",
   "metadata": {},
   "source": [
    "## Create a CNN model using Keras"
   ]
  },
  {
   "cell_type": "code",
   "execution_count": 6,
   "metadata": {},
   "outputs": [
    {
     "name": "stdout",
     "output_type": "stream",
     "text": [
      "Model: \"sequential\"\n",
      "_________________________________________________________________\n",
      "Layer (type)                 Output Shape              Param #   \n",
      "=================================================================\n",
      "conv2d (Conv2D)              (None, 28, 28, 64)        3200      \n",
      "_________________________________________________________________\n",
      "max_pooling2d (MaxPooling2D) (None, 14, 14, 64)        0         \n",
      "_________________________________________________________________\n",
      "conv2d_1 (Conv2D)            (None, 14, 14, 128)       73856     \n",
      "_________________________________________________________________\n",
      "conv2d_2 (Conv2D)            (None, 14, 14, 128)       147584    \n",
      "_________________________________________________________________\n",
      "max_pooling2d_1 (MaxPooling2 (None, 7, 7, 128)         0         \n",
      "_________________________________________________________________\n",
      "conv2d_3 (Conv2D)            (None, 7, 7, 256)         295168    \n",
      "_________________________________________________________________\n",
      "conv2d_4 (Conv2D)            (None, 7, 7, 256)         590080    \n",
      "_________________________________________________________________\n",
      "max_pooling2d_2 (MaxPooling2 (None, 3, 3, 256)         0         \n",
      "_________________________________________________________________\n",
      "flatten (Flatten)            (None, 2304)              0         \n",
      "_________________________________________________________________\n",
      "dense (Dense)                (None, 128)               295040    \n",
      "_________________________________________________________________\n",
      "dropout (Dropout)            (None, 128)               0         \n",
      "_________________________________________________________________\n",
      "dense_1 (Dense)              (None, 64)                8256      \n",
      "_________________________________________________________________\n",
      "dropout_1 (Dropout)          (None, 64)                0         \n",
      "_________________________________________________________________\n",
      "dense_2 (Dense)              (None, 10)                650       \n",
      "=================================================================\n",
      "Total params: 1,413,834\n",
      "Trainable params: 1,413,834\n",
      "Non-trainable params: 0\n",
      "_________________________________________________________________\n"
     ]
    }
   ],
   "source": [
    "from tensorflow.keras.models import Sequential\n",
    "from tensorflow.keras.layers import Conv2D, MaxPooling2D, Flatten, Dropout, Dense\n",
    "\n",
    "model = Sequential([\n",
    "    Conv2D(64, 7, activation='relu', padding='same', input_shape=[28,28,1]),\n",
    "    MaxPooling2D(2),\n",
    "    Conv2D(128, 3, activation='relu', padding='same'),\n",
    "    Conv2D(128, 3, activation='relu', padding='same'),\n",
    "    MaxPooling2D(2),\n",
    "    Conv2D(256, 3, activation='relu', padding='same'),\n",
    "    Conv2D(256, 3, activation='relu', padding='same'),\n",
    "    MaxPooling2D(2),\n",
    "    Flatten(),\n",
    "    Dense(128, activation='relu'),\n",
    "    Dropout(0.5),\n",
    "    Dense(64, activation='relu'),\n",
    "    Dropout(0.5),\n",
    "    Dense(10, activation='softmax')\n",
    "])\n",
    "\n",
    "model.summary()"
   ]
  },
  {
   "cell_type": "code",
   "execution_count": 7,
   "metadata": {},
   "outputs": [],
   "source": [
    "model.compile(optimizer='Adam', loss='categorical_crossentropy', metrics=['accuracy'])"
   ]
  },
  {
   "cell_type": "code",
   "execution_count": 8,
   "metadata": {},
   "outputs": [
    {
     "name": "stdout",
     "output_type": "stream",
     "text": [
      "Train on 60000 samples, validate on 5000 samples\n",
      "Epoch 1/10\n",
      "60000/60000 [==============================] - 303s 5ms/sample - loss: 0.4377 - accuracy: 0.8598 - val_loss: 0.0731 - val_accuracy: 0.9814\n",
      "Epoch 2/10\n",
      "60000/60000 [==============================] - 282s 5ms/sample - loss: 0.1202 - accuracy: 0.9705 - val_loss: 0.0512 - val_accuracy: 0.9870\n",
      "Epoch 3/10\n",
      "60000/60000 [==============================] - 284s 5ms/sample - loss: 0.0843 - accuracy: 0.9807 - val_loss: 0.0560 - val_accuracy: 0.9888\n",
      "Epoch 4/10\n",
      "60000/60000 [==============================] - 290s 5ms/sample - loss: 0.0638 - accuracy: 0.9844 - val_loss: 0.0684 - val_accuracy: 0.9866\n",
      "Epoch 5/10\n",
      "60000/60000 [==============================] - 312s 5ms/sample - loss: 0.0593 - accuracy: 0.9863 - val_loss: 0.0567 - val_accuracy: 0.9882\n",
      "Epoch 6/10\n",
      "60000/60000 [==============================] - 288s 5ms/sample - loss: 0.0456 - accuracy: 0.9889 - val_loss: 0.0516 - val_accuracy: 0.9888\n",
      "Epoch 7/10\n",
      "60000/60000 [==============================] - 304s 5ms/sample - loss: 0.0424 - accuracy: 0.9897 - val_loss: 0.0424 - val_accuracy: 0.9882\n",
      "Epoch 8/10\n",
      "60000/60000 [==============================] - 299s 5ms/sample - loss: 0.0368 - accuracy: 0.9906 - val_loss: 0.0488 - val_accuracy: 0.9900\n",
      "Epoch 9/10\n",
      "60000/60000 [==============================] - 296s 5ms/sample - loss: 0.0387 - accuracy: 0.9909 - val_loss: 0.0502 - val_accuracy: 0.9900\n",
      "Epoch 10/10\n",
      "60000/60000 [==============================] - 295s 5ms/sample - loss: 0.0306 - accuracy: 0.9929 - val_loss: 0.0461 - val_accuracy: 0.9912\n"
     ]
    },
    {
     "data": {
      "text/plain": [
       "<tensorflow.python.keras.callbacks.History at 0x7f029800da20>"
      ]
     },
     "execution_count": 8,
     "metadata": {},
     "output_type": "execute_result"
    }
   ],
   "source": [
    "model.fit(x_train_reshaped, \n",
    "          y_train_one_hot, \n",
    "          batch_size=64,\n",
    "          epochs=10,\n",
    "          validation_data=(x_val_reshaped, y_val_one_hot))"
   ]
  },
  {
   "cell_type": "code",
   "execution_count": null,
   "metadata": {},
   "outputs": [],
   "source": []
  },
  {
   "cell_type": "code",
   "execution_count": null,
   "metadata": {},
   "outputs": [],
   "source": []
  }
 ],
 "metadata": {
  "kernelspec": {
   "display_name": "Python 3",
   "language": "python",
   "name": "python3"
  },
  "language_info": {
   "codemirror_mode": {
    "name": "ipython",
    "version": 3
   },
   "file_extension": ".py",
   "mimetype": "text/x-python",
   "name": "python",
   "nbconvert_exporter": "python",
   "pygments_lexer": "ipython3",
   "version": "3.7.3"
  }
 },
 "nbformat": 4,
 "nbformat_minor": 2
}
